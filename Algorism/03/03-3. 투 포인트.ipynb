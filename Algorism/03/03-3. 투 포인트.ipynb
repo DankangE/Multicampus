{
 "cells": [
  {
   "cell_type": "code",
   "execution_count": 1,
   "metadata": {},
   "outputs": [
    {
     "data": {
      "text/plain": [
       "[1, 2, 3, 4, 5, 6, 7, 8, 9, 10, 11, 12, 13, 14, 15]"
      ]
     },
     "execution_count": 1,
     "metadata": {},
     "output_type": "execute_result"
    }
   ],
   "source": [
    "N = 15\n",
    "list(range(1, N+1))"
   ]
  },
  {
   "cell_type": "code",
   "execution_count": 5,
   "metadata": {},
   "outputs": [
    {
     "name": "stdout",
     "output_type": "stream",
     "text": [
      "4 0.0\n"
     ]
    }
   ],
   "source": [
    "import time\n",
    "# 코드 구현\n",
    "n = int(input())\n",
    "cnt = 1\n",
    "sindex = 1\n",
    "eindex = 1\n",
    "Sum = 1\n",
    "\n",
    "start_time = time.time()\n",
    "while eindex != n:\n",
    "    if Sum == n:\n",
    "        cnt += 1\n",
    "        eindex += 1\n",
    "        Sum += eindex\n",
    "    elif Sum > n:\n",
    "        Sum -= sindex\n",
    "        sindex += 1\n",
    "    else:\n",
    "        eindex += 1\n",
    "        Sum += eindex\n",
    "        \n",
    "end_time = time.time()\n",
    "\n",
    "print(cnt, end_time - start_time)"
   ]
  },
  {
   "cell_type": "code",
   "execution_count": null,
   "metadata": {},
   "outputs": [],
   "source": []
  }
 ],
 "metadata": {
  "kernelspec": {
   "display_name": "mtedu",
   "language": "python",
   "name": "python3"
  },
  "language_info": {
   "codemirror_mode": {
    "name": "ipython",
    "version": 3
   },
   "file_extension": ".py",
   "mimetype": "text/x-python",
   "name": "python",
   "nbconvert_exporter": "python",
   "pygments_lexer": "ipython3",
   "version": "3.10.12"
  },
  "orig_nbformat": 4
 },
 "nbformat": 4,
 "nbformat_minor": 2
}
