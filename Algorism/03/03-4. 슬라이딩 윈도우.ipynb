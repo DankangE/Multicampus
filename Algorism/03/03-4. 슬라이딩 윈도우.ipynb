{
 "cells": [
  {
   "cell_type": "code",
   "execution_count": 2,
   "metadata": {},
   "outputs": [
    {
     "name": "stdout",
     "output_type": "stream",
     "text": [
      "[0, 0, 0, 0] [0, 0, 0, 0] 0\n"
     ]
    }
   ],
   "source": [
    "# 1. chkList 비밀번호 체크 리스트\n",
    "chkList = [0, 0 , 0 , 0]\n",
    "# 2. userList 현재 상태를 저장할 리스트\n",
    "userList = [0] * 4\n",
    "# 3. chkSecret 문자의와 관련된 개수 충족 판단 변수\n",
    "chkSecret = 0\n",
    "print(chkList, userList, chkSecret)"
   ]
  },
  {
   "cell_type": "code",
   "execution_count": 3,
   "metadata": {},
   "outputs": [],
   "source": [
    "# 함수\n",
    "# 1. 문자 더하기\n",
    "def addChar(c):\n",
    "    global chkList, userList, chkSecret\n",
    "    if c == 'A':\n",
    "        userList[0] += 1\n",
    "        if userList[0] == chkList[0]:\n",
    "            chkSecret += 1\n",
    "    elif c == 'C':\n",
    "        userList[1] += 1\n",
    "        if userList[1] == chkList[1]:\n",
    "            chkSecret += 1\n",
    "    elif c == 'G':\n",
    "        userList[2] += 1\n",
    "        if userList[2] == chkList[2]:\n",
    "            chkSecret += 1\n",
    "    elif c == 'T':\n",
    "        userList[3] += 1\n",
    "        if userList[3] == chkList[3]:\n",
    "            chkSecret += 1\n",
    "    \n",
    "# 2. 문자 빼기\n",
    "def subChar(c):\n",
    "    global chkList, userList, chkSecret\n",
    "    if c == 'A':\n",
    "        if userList[0] == chkList[0]:\n",
    "            chkSecret -= 1\n",
    "        userList[0] -= 1\n",
    "    elif c == 'C':\n",
    "        if userList[1] == chkList[1]:\n",
    "            chkSecret -= 1\n",
    "        userList[1] -= 1\n",
    "    elif c == 'G':\n",
    "        if userList[2] == chkList[2]:\n",
    "            chkSecret -= 1\n",
    "        userList[2] -= 1\n",
    "    elif c == 'T':\n",
    "        if userList[3] == chkList[3]:\n",
    "            chkSecret -= 1\n",
    "        userList[3] -= 1"
   ]
  },
  {
   "cell_type": "code",
   "execution_count": 4,
   "metadata": {},
   "outputs": [
    {
     "name": "stdout",
     "output_type": "stream",
     "text": [
      "0\n"
     ]
    }
   ],
   "source": [
    "# 구현 코드\n",
    "# S: 문자열 크기, P: 부분 문자열 크기\n",
    "S, P = map(int, input().split())\n",
    "# A: 사용 생성 문자열\n",
    "A = list(input())\n",
    "\n",
    "result = 0 # 결과값\n",
    "\n",
    "# chkList 데이터 입력 받기\n",
    "chkList = list(map(int, input().split()))\n",
    "# chkList 비밀번호 만족시(0) chkSecret 값 증가\n",
    "\n",
    "\n",
    "print(chkList, userList, chkSecret)\n",
    "# p 범위(0~p-1) 만큼 userList/chkSecret 적용, 비밀번호 유효성 판단\n",
    "\n",
    "# for 사용(p~s)해 반복\n",
    "# 함수를 이용해 한칸씩 이동하면서 새로운 문자열 생성 및 처리\n",
    "# 유효한 비밀번호인지 판단 = 결과값 업데이트\n",
    "for i in range(4):\n",
    "    if chkList[i] == 0:\n",
    "        chkSecret += 1\n",
    "        \n",
    "for i in range(P):\n",
    "    addChar(A[i])\n",
    "    \n",
    "if chkSecret == 4: # 비밀번호 충족 요건 만족시\n",
    "    result += 1 # 결과값 업데이트\n",
    "    \n",
    "for i in range(P, S):\n",
    "    j = i - P\n",
    "    addChar(A[i])\n",
    "    subChar(A[j])\n",
    "    if chkSecret == 4:\n",
    "        result += 1 \n",
    "    \n",
    "\n",
    "# 결과 출력\n",
    "print(result)"
   ]
  }
 ],
 "metadata": {
  "kernelspec": {
   "display_name": "mtedu",
   "language": "python",
   "name": "python3"
  },
  "language_info": {
   "codemirror_mode": {
    "name": "ipython",
    "version": 3
   },
   "file_extension": ".py",
   "mimetype": "text/x-python",
   "name": "python",
   "nbconvert_exporter": "python",
   "pygments_lexer": "ipython3",
   "version": "3.10.12"
  },
  "orig_nbformat": 4
 },
 "nbformat": 4,
 "nbformat_minor": 2
}
